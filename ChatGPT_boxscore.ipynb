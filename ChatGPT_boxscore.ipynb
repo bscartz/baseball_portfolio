{
 "cells": [
  {
   "cell_type": "markdown",
   "metadata": {},
   "source": [
    "# ChatGPT for Box Scores\n",
    "\n",
    "Purpose: to answer questions and provide summative information about recent games or series from around baseball.\n",
    "\n",
    "This program takes inputs of box scores and answers questions regarding noteworthy events from the games described. The box scores could be from around the MLB, minor leagues, or college baseball. It is not meant to provide in-depth analysis, but it can be an effective tool in keeping scouts, managers, and executives informed about the volume of games that they are unable to watch. The program takes an optional input of a pre-defined watchlist, which allows the user to request information about a particular selection of players. It can also be systematized to provide weekly updates of notable performances that might otherwise go unnoticed."
   ]
  },
  {
   "cell_type": "code",
   "execution_count": 13,
   "metadata": {},
   "outputs": [],
   "source": [
    "import openai as ai\n",
    "import pandas as pd\n",
    "\n",
    "# Set Openai key (key omitted for publication)\n",
    "ai.api_key = api_key\n",
    "\n",
    "'''\n",
    "This example uses box scores of three MLB games from 9/14/23. In practice, the input would be a much...\n",
    "larger set of games, beyond what could be efficiently followed without AI assistance.\n",
    "These box scores were created using Statcast data in a separate R file.\n",
    "'''\n",
    "# Read in pitchers file \n",
    "BOS_NYYp = pd.read_csv('box_p_BOS_NYY.csv').drop(columns=['Unnamed: 0', 'player_id'])\n",
    "MIN_CWSp = pd.read_csv('box_p_MIN_CWS.csv').drop(columns=['Unnamed: 0', 'player_id'])\n",
    "TEX_TORp = pd.read_csv('box_p_TEX_TOR.csv').drop(columns=['Unnamed: 0', 'player_id'])\n",
    "\n",
    "# Read in hitters file\n",
    "BOS_NYYh = pd.read_csv('box_h_BOS_NYY.csv').drop(columns=['Unnamed: 0', 'player_id'])\n",
    "MIN_CWSh = pd.read_csv('box_h_MIN_CWS.csv').drop(columns=['Unnamed: 0', 'player_id'])\n",
    "TEX_TORh = pd.read_csv('box_h_TEX_TOR.csv').drop(columns=['Unnamed: 0', 'player_id'])"
   ]
  },
  {
   "cell_type": "code",
   "execution_count": 14,
   "metadata": {},
   "outputs": [
    {
     "data": {
      "text/html": [
       "<div>\n",
       "<style scoped>\n",
       "    .dataframe tbody tr th:only-of-type {\n",
       "        vertical-align: middle;\n",
       "    }\n",
       "\n",
       "    .dataframe tbody tr th {\n",
       "        vertical-align: top;\n",
       "    }\n",
       "\n",
       "    .dataframe thead th {\n",
       "        text-align: right;\n",
       "    }\n",
       "</style>\n",
       "<table border=\"1\" class=\"dataframe\">\n",
       "  <thead>\n",
       "    <tr style=\"text-align: right;\">\n",
       "      <th></th>\n",
       "      <th>Name</th>\n",
       "      <th>POS</th>\n",
       "      <th>Team</th>\n",
       "      <th>PA</th>\n",
       "      <th>H</th>\n",
       "      <th>BB</th>\n",
       "      <th>K</th>\n",
       "      <th>HR</th>\n",
       "      <th>Barrel</th>\n",
       "      <th>RC</th>\n",
       "    </tr>\n",
       "  </thead>\n",
       "  <tbody>\n",
       "    <tr>\n",
       "      <th>0</th>\n",
       "      <td>Wilyer Abreu</td>\n",
       "      <td>LF</td>\n",
       "      <td>BOS</td>\n",
       "      <td>4</td>\n",
       "      <td>3</td>\n",
       "      <td>0</td>\n",
       "      <td>1</td>\n",
       "      <td>0</td>\n",
       "      <td>0</td>\n",
       "      <td>2.25</td>\n",
       "    </tr>\n",
       "    <tr>\n",
       "      <th>1</th>\n",
       "      <td>Justin Turner</td>\n",
       "      <td>DH</td>\n",
       "      <td>BOS</td>\n",
       "      <td>4</td>\n",
       "      <td>1</td>\n",
       "      <td>0</td>\n",
       "      <td>0</td>\n",
       "      <td>0</td>\n",
       "      <td>0</td>\n",
       "      <td>0.25</td>\n",
       "    </tr>\n",
       "    <tr>\n",
       "      <th>2</th>\n",
       "      <td>Gleyber Torres</td>\n",
       "      <td>2B</td>\n",
       "      <td>NYY</td>\n",
       "      <td>4</td>\n",
       "      <td>2</td>\n",
       "      <td>0</td>\n",
       "      <td>1</td>\n",
       "      <td>0</td>\n",
       "      <td>0</td>\n",
       "      <td>2.00</td>\n",
       "    </tr>\n",
       "    <tr>\n",
       "      <th>3</th>\n",
       "      <td>Rafael Devers</td>\n",
       "      <td>3B</td>\n",
       "      <td>BOS</td>\n",
       "      <td>4</td>\n",
       "      <td>1</td>\n",
       "      <td>1</td>\n",
       "      <td>1</td>\n",
       "      <td>0</td>\n",
       "      <td>0</td>\n",
       "      <td>1.67</td>\n",
       "    </tr>\n",
       "    <tr>\n",
       "      <th>4</th>\n",
       "      <td>Aaron Judge</td>\n",
       "      <td>RF</td>\n",
       "      <td>NYY</td>\n",
       "      <td>4</td>\n",
       "      <td>0</td>\n",
       "      <td>0</td>\n",
       "      <td>1</td>\n",
       "      <td>0</td>\n",
       "      <td>0</td>\n",
       "      <td>0.00</td>\n",
       "    </tr>\n",
       "  </tbody>\n",
       "</table>\n",
       "</div>"
      ],
      "text/plain": [
       "             Name POS Team  PA  H  BB  K  HR  Barrel    RC\n",
       "0    Wilyer Abreu  LF  BOS   4  3   0  1   0       0  2.25\n",
       "1   Justin Turner  DH  BOS   4  1   0  0   0       0  0.25\n",
       "2  Gleyber Torres  2B  NYY   4  2   0  1   0       0  2.00\n",
       "3   Rafael Devers  3B  BOS   4  1   1  1   0       0  1.67\n",
       "4     Aaron Judge  RF  NYY   4  0   0  1   0       0  0.00"
      ]
     },
     "execution_count": 14,
     "metadata": {},
     "output_type": "execute_result"
    }
   ],
   "source": [
    "BOS_NYYh.head()"
   ]
  },
  {
   "cell_type": "code",
   "execution_count": 15,
   "metadata": {},
   "outputs": [
    {
     "data": {
      "text/html": [
       "<div>\n",
       "<style scoped>\n",
       "    .dataframe tbody tr th:only-of-type {\n",
       "        vertical-align: middle;\n",
       "    }\n",
       "\n",
       "    .dataframe tbody tr th {\n",
       "        vertical-align: top;\n",
       "    }\n",
       "\n",
       "    .dataframe thead th {\n",
       "        text-align: right;\n",
       "    }\n",
       "</style>\n",
       "<table border=\"1\" class=\"dataframe\">\n",
       "  <thead>\n",
       "    <tr style=\"text-align: right;\">\n",
       "      <th></th>\n",
       "      <th>Name</th>\n",
       "      <th>Team</th>\n",
       "      <th>IP</th>\n",
       "      <th>BF</th>\n",
       "      <th>K</th>\n",
       "      <th>BB</th>\n",
       "      <th>CSW_FB</th>\n",
       "      <th>CSW_BB</th>\n",
       "      <th>H</th>\n",
       "      <th>FB_avg</th>\n",
       "    </tr>\n",
       "  </thead>\n",
       "  <tbody>\n",
       "    <tr>\n",
       "      <th>0</th>\n",
       "      <td>Chris Martin</td>\n",
       "      <td>BOS</td>\n",
       "      <td>1.0</td>\n",
       "      <td>5</td>\n",
       "      <td>0</td>\n",
       "      <td>0</td>\n",
       "      <td>0.23</td>\n",
       "      <td>NaN</td>\n",
       "      <td>2</td>\n",
       "      <td>95.9</td>\n",
       "    </tr>\n",
       "    <tr>\n",
       "      <th>1</th>\n",
       "      <td>Michael King</td>\n",
       "      <td>NYY</td>\n",
       "      <td>4.2</td>\n",
       "      <td>20</td>\n",
       "      <td>8</td>\n",
       "      <td>1</td>\n",
       "      <td>0.33</td>\n",
       "      <td>0.26</td>\n",
       "      <td>6</td>\n",
       "      <td>94.6</td>\n",
       "    </tr>\n",
       "    <tr>\n",
       "      <th>2</th>\n",
       "      <td>Greg Weissert</td>\n",
       "      <td>NYY</td>\n",
       "      <td>2.1</td>\n",
       "      <td>9</td>\n",
       "      <td>3</td>\n",
       "      <td>0</td>\n",
       "      <td>0.29</td>\n",
       "      <td>0.33</td>\n",
       "      <td>2</td>\n",
       "      <td>94.7</td>\n",
       "    </tr>\n",
       "    <tr>\n",
       "      <th>3</th>\n",
       "      <td>Tanner Houck</td>\n",
       "      <td>BOS</td>\n",
       "      <td>6.0</td>\n",
       "      <td>25</td>\n",
       "      <td>7</td>\n",
       "      <td>3</td>\n",
       "      <td>0.27</td>\n",
       "      <td>0.34</td>\n",
       "      <td>4</td>\n",
       "      <td>94.5</td>\n",
       "    </tr>\n",
       "    <tr>\n",
       "      <th>4</th>\n",
       "      <td>Garrett Whitlock</td>\n",
       "      <td>BOS</td>\n",
       "      <td>2.0</td>\n",
       "      <td>6</td>\n",
       "      <td>1</td>\n",
       "      <td>0</td>\n",
       "      <td>0.31</td>\n",
       "      <td>0.33</td>\n",
       "      <td>0</td>\n",
       "      <td>95.4</td>\n",
       "    </tr>\n",
       "  </tbody>\n",
       "</table>\n",
       "</div>"
      ],
      "text/plain": [
       "               Name Team   IP  BF  K  BB  CSW_FB  CSW_BB  H  FB_avg\n",
       "0      Chris Martin  BOS  1.0   5  0   0    0.23     NaN  2    95.9\n",
       "1      Michael King  NYY  4.2  20  8   1    0.33    0.26  6    94.6\n",
       "2     Greg Weissert  NYY  2.1   9  3   0    0.29    0.33  2    94.7\n",
       "3      Tanner Houck  BOS  6.0  25  7   3    0.27    0.34  4    94.5\n",
       "4  Garrett Whitlock  BOS  2.0   6  1   0    0.31    0.33  0    95.4"
      ]
     },
     "execution_count": 15,
     "metadata": {},
     "output_type": "execute_result"
    }
   ],
   "source": [
    "BOS_NYYp.head()"
   ]
  },
  {
   "cell_type": "code",
   "execution_count": 16,
   "metadata": {},
   "outputs": [],
   "source": [
    "# Convert to json\n",
    "BOS_NYYp = BOS_NYYp.to_json(orient='records')\n",
    "MIN_CWSp = MIN_CWSp.to_json(orient='records')\n",
    "TEX_TORp = TEX_TORp.to_json(orient='records')\n",
    "BOS_NYYh = BOS_NYYh.to_json(orient='records')\n",
    "MIN_CWSh = MIN_CWSh.to_json(orient='records')\n",
    "TEX_TORh = TEX_TORh.to_json(orient='records')\n",
    "\n",
    "#This list of box score files is an example of the input that the program could take.\n",
    "box_scores = [BOS_NYYp, MIN_CWSp, TEX_TORp, BOS_NYYh, MIN_CWSh, TEX_TORh]"
   ]
  },
  {
   "cell_type": "code",
   "execution_count": 17,
   "metadata": {},
   "outputs": [],
   "source": [
    "def chat_gpt_box(jsonList, prompt, watchlist = None):\n",
    "    # Craft GPT model with messages\n",
    "    messages = [\n",
    "        {\"role\": \"system\", \"content\": '''You are given a box score from a baseball game. \n",
    "                                         Your job is to answer questions about how players performed in the games.'''},\n",
    "        {\"role\": \"system\", \"content\": '''The columns for a pitcher box score are as follows. IP: innings pitched. \n",
    "                                         BF: batters faced. K: strikeouts. BB: walks. \n",
    "                                         CSW_FB: called strike + swing and miss rates on fastballs. \n",
    "                                         CSW_BB: called strike + swing and miss rates on breaking balls. \n",
    "                                         H: hits. FB_avg: the pitcher's average fastball velocity in the game.'''},\n",
    "        {\"role\": \"system\", \"content\": '''When evaluating pitchers’ performances, look for high strikeouts, low hits, \n",
    "                                         and low walks. CSW_FB and CSW_BB are indicators of how the pitcher’s fastball \n",
    "                                         and breaking ball performed, respectively; 0.3 is around average.'''},\n",
    "        {\"role\": \"system\", \"content\": '''The columns for a hitter box score are as follows: PA: plate appearances. \n",
    "                                         H: hits. BB: walks. K: strikeouts. HR: home runs. Barrel: Very well-hit balls. \n",
    "                                         RC: runs created. RC is the most important indicator of success. \n",
    "                                         Recording a barrel or HR is noteworthy.'''},\n",
    "        {\"role\": \"system\", \"content\": '''Whenever you mention a player, follow it with his team in parenthesis. \n",
    "                                         Do not list out the stats unless they are specifically referenced.'''},\n",
    "        {\"role\": \"system\", \"content\": '''You may be given a watchlist of names. If you are given a list of names, \n",
    "                                         then the user may ask for information about players on the watchlist. \n",
    "                                         If so, find the box score stats for the players on the watchlist. Some may \n",
    "                                         be pitchers, and some may be hitters. Use pitcher stats for the pitchers and \n",
    "                                         hitter stats for the hitters. Rather than just providing stats, provide a \n",
    "                                         brief written summary and make note of any notable stats.'''},\n",
    "        {\"role\": \"system\", \"content\": str(watchlist) if watchlist else \"No watchlist provided\"}\n",
    "    ]\n",
    "    # Add each box score in the list\n",
    "    for i in range(len(jsonList)):\n",
    "        messages.append({\"role\": \"assistant\", \"content\": jsonList[i]})\n",
    "\n",
    "    messages.append({\"role\": \"user\", \"content\": prompt})\n",
    "\n",
    "    response = ai.ChatCompletion.create(\n",
    "        model=\"gpt-3.5-turbo-16k\",\n",
    "        messages=messages,\n",
    "        max_tokens=200\n",
    "    )\n",
    "\n",
    "    answer = response[\"choices\"][0][\"message\"][\"content\"]\n",
    "    tokens_used = response[\"usage\"][\"total_tokens\"]\n",
    "\n",
    "    result_dict = {\"answer\": answer, \"tokens_used\": tokens_used}\n",
    "    return result_dict\n"
   ]
  },
  {
   "cell_type": "code",
   "execution_count": 18,
   "metadata": {},
   "outputs": [],
   "source": [
    "def Chad2(jsonList, watchlist = None):\n",
    "\n",
    "    user_input = input(\"Enter your prompt: \")\n",
    "    result = chat_gpt_box(jsonList = jsonList, prompt = user_input, watchlist = watchlist)\n",
    "    answer = result[\"answer\"]\n",
    "    print(\"Tokens used:\", result[\"tokens_used\"])\n",
    "    cost = result[\"tokens_used\"] / 1000 * .003\n",
    "    print(f'cost: ${round(cost,4)}, or {round(cost * 100,1)} cents.')\n",
    "    print(f'Prompt: {user_input}')\n",
    "    \n",
    "    return print(answer)"
   ]
  },
  {
   "cell_type": "markdown",
   "metadata": {},
   "source": [
    "Prompt: What pitchers performed well yesterday?"
   ]
  },
  {
   "cell_type": "code",
   "execution_count": 51,
   "metadata": {},
   "outputs": [
    {
     "name": "stdout",
     "output_type": "stream",
     "text": [
      "Tokens used: 4683\n",
      "cost: $0.014, or 1.4 cents.\n",
      "Prompt: What pitchers performed well yesterday?\n",
      "Yesterday, there were several pitchers who performed well. Here are a few notable performances:\n",
      "\n",
      "- Michael King (NYY) had a strong outing, pitching 4.2 innings with 8 strikeouts and only allowing 1 walk and 6 hits.\n",
      "- Tanner Houck (BOS) also had a solid performance, pitching 6 innings with 7 strikeouts and only allowing 3 walks and 4 hits.\n",
      "- Garrett Whitlock (BOS) had a good outing, pitching 2 innings with 1 strikeout and not allowing any hits or walks.\n",
      "- Jose Urena (CWS) pitched 6.1 innings with 8 strikeouts, no walks, and 7 hits.\n",
      "- Kenta Maeda (MIN) pitched 7 innings with 8 strikeouts and only allowed 1 walk and 4 hits.\n",
      "\n",
      "These pitchers demonstrated strong command and were successful in limiting hits and walks while generating a good number of strikeouts.\n"
     ]
    }
   ],
   "source": [
    "Chad2(box_scores)"
   ]
  },
  {
   "cell_type": "markdown",
   "metadata": {},
   "source": [
    "Prompt: How was Maeda's fastball yesterday?"
   ]
  },
  {
   "cell_type": "code",
   "execution_count": 19,
   "metadata": {},
   "outputs": [
    {
     "name": "stdout",
     "output_type": "stream",
     "text": [
      "Tokens used: 4587\n",
      "cost: $0.0138, or 1.4 cents.\n",
      "Prompt: How was Maeda's fastball yesterday?\n",
      "Kenta Maeda's fastball averaged 90.7 mph in yesterday's game. This is relatively low compared to the average fastball velocity of pitchers. It's worth noting that his CSW_FB (called strike + swing and miss rate on fastballs) was 0.18, which is also on the lower side.\n"
     ]
    }
   ],
   "source": [
    "Chad2(box_scores)"
   ]
  },
  {
   "cell_type": "markdown",
   "metadata": {},
   "source": [
    "### Watchlist\n",
    "\n",
    "This feature of the program can create more relevant insights, particularly when monitoring college and minor leagues. When considering possible draft picks, acquisitions, or promotions, it can be very helpful to maintain an active following of as many players as possible. "
   ]
  },
  {
   "cell_type": "code",
   "execution_count": 24,
   "metadata": {},
   "outputs": [],
   "source": [
    "# Create watchlist\n",
    "myWatchlist = ['Triston Casas', 'Anthony Volpe', 'Gavin Sheets', 'Jose Urena', 'Cody Bradford']"
   ]
  },
  {
   "cell_type": "markdown",
   "metadata": {},
   "source": [
    "Prompt: Who from the watchlist played well?"
   ]
  },
  {
   "cell_type": "code",
   "execution_count": 45,
   "metadata": {},
   "outputs": [
    {
     "name": "stdout",
     "output_type": "stream",
     "text": [
      "Tokens used: 4674\n",
      "cost: $0.014, or 1.4 cents.\n",
      "Prompt: Who from the watchlist played well?\n",
      "From the watchlist, Triston Casas (BOS) played well with 1 hit, 1 walk, and a run created of 0.25. Anthony Volpe (NYY) also had a solid performance with 2 hits, 1 walk, and a run created of 1.0. Gavin Sheets (CWS) had 1 hit and a run created of 0.25. Jose Urena (CWS) had a good outing as a pitcher, pitching 6.1 innings with 8 strikeouts, 0 walks, and allowing 7 hits. Cody Bradford (TEX) also had a strong pitching performance, striking out 4 batters in 2.2 innings with 1 walk and 1 hit allowed.\n"
     ]
    }
   ],
   "source": [
    "Chad2(box_scores, watchlist = myWatchlist)"
   ]
  },
  {
   "cell_type": "markdown",
   "metadata": {},
   "source": [
    "Prompt: How did Volpe play?"
   ]
  },
  {
   "cell_type": "code",
   "execution_count": 53,
   "metadata": {},
   "outputs": [
    {
     "name": "stdout",
     "output_type": "stream",
     "text": [
      "Tokens used: 4586\n",
      "cost: $0.0138, or 1.4 cents.\n",
      "Prompt: How did Volpe play?\n",
      "Anthony Volpe (NYY) had a tough game at the plate. He went 0-for-4 with no hits in his four plate appearances. He did draw one walk and struck out once. Although he didn't have any notable stats in this game, it's important to note that one game does not define a player's performance.\n"
     ]
    }
   ],
   "source": [
    "Chad2(box_scores, myWatchlist)"
   ]
  },
  {
   "cell_type": "markdown",
   "metadata": {},
   "source": [
    "### More with ChatGPT\n",
    "\n",
    "I look forward to exploring additional uses of ChatGPT for MLB front offices. Possibilities include the following.\n",
    "\n",
    "- SQL querying assistance for non-analysts\n",
    "- Optimizing scouts' travel schedules, considering geography and noted prospects\n",
    "- Summarizing long documents\n",
    "- translating Spanish, Japanese, Korean, or other foreign language materials\n",
    "- Mass communications\n",
    "- Social media / league buzz monitoring\n",
    "\n"
   ]
  }
 ],
 "metadata": {
  "kernelspec": {
   "display_name": "mssa60230",
   "language": "python",
   "name": "python3"
  },
  "language_info": {
   "codemirror_mode": {
    "name": "ipython",
    "version": 3
   },
   "file_extension": ".py",
   "mimetype": "text/x-python",
   "name": "python",
   "nbconvert_exporter": "python",
   "pygments_lexer": "ipython3",
   "version": "3.10.13"
  }
 },
 "nbformat": 4,
 "nbformat_minor": 2
}
