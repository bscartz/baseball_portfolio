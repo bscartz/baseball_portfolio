{
 "cells": [
  {
   "cell_type": "markdown",
   "metadata": {},
   "source": [
    "# MLB Playoff Simulator"
   ]
  },
  {
   "cell_type": "markdown",
   "metadata": {},
   "source": [
    "Create random series function"
   ]
  },
  {
   "cell_type": "code",
   "execution_count": 191,
   "metadata": {},
   "outputs": [],
   "source": [
    "import random as ran\n",
    "import pandas as pd\n",
    "\n",
    "def series_random(Team1, Team2, seriesLength):\n",
    "    Team1wins = 0\n",
    "    Team2wins = 0\n",
    "    needed = seriesLength // 2 + 1\n",
    "\n",
    "    while Team1wins < needed and Team2wins < needed:\n",
    "        winner = ran.choice([Team1, Team2])\n",
    "        if winner == Team1:\n",
    "            Team1wins += 1\n",
    "            #print(f'{Team1} wins game {Team1wins + Team2wins}')\n",
    "        else:\n",
    "            Team2wins += 1\n",
    "            #print(f'{Team2} wins game {Team2wins + Team1wins}')\n",
    "\n",
    "    if Team1wins == needed:\n",
    "        #print(f'{Team1} win the series {Team1wins} games to {Team2wins}.')\n",
    "        seriesWinner = Team1\n",
    "    else:\n",
    "        #print(f'{Team2} win the series {Team2wins} games to {Team1wins}.')\n",
    "        seriesWinner = Team2\n",
    "\n",
    "    return seriesWinner\n",
    "\n",
    "\n"
   ]
  },
  {
   "cell_type": "code",
   "execution_count": 194,
   "metadata": {},
   "outputs": [
    {
     "data": {
      "text/plain": [
       "'St Louis Cardinals'"
      ]
     },
     "execution_count": 194,
     "metadata": {},
     "output_type": "execute_result"
    }
   ],
   "source": [
    "series_random('St Louis Cardinals', 'Chicago Cubs', 7)"
   ]
  },
  {
   "cell_type": "markdown",
   "metadata": {},
   "source": [
    "Apply random series function to MLB playoff format"
   ]
  },
  {
   "cell_type": "code",
   "execution_count": 80,
   "metadata": {},
   "outputs": [
    {
     "name": "stdout",
     "output_type": "stream",
     "text": [
      "The Milwaukee Brewers are World Champs!\n"
     ]
    }
   ],
   "source": [
    "NLteam1 = 'Atlanta Braves'\n",
    "NLteam2 = 'Los Angeles Dodgers'\n",
    "NLteam3 = 'Milwaukee Brewers'\n",
    "NLteam4 = 'Philladelphia Phillies'\n",
    "NLteam5 = 'Miami Marlins'\n",
    "NLteam6 = 'Arizona Diamondbacks'\n",
    "\n",
    "ALteam1 = 'Baltimore Orioles'\n",
    "ALteam2 = 'Houston Astros'\n",
    "ALteam3 = 'Minnesota Twins'\n",
    "ALteam4 = 'Tampa Bay Rays'\n",
    "ALteam5 = 'Texas Rangers'\n",
    "ALteam6 = 'Toronto Blue Jays'\n",
    "\n",
    "NLWCwinner1 = series_random(NLteam6, NLteam3, 3)\n",
    "NLWCwinner2 = series_random(NLteam5, NLteam4, 3)\n",
    "ALWCwinner1 = series_random(ALteam6, ALteam3, 3)\n",
    "ALWCwinner2 = series_random(ALteam5, ALteam4, 3)\n",
    "\n",
    "NLDSwinner1 = series_random(NLteam2, NLWCwinner1, 5)\n",
    "NLDSwinner2 = series_random(NLteam1, NLWCwinner2, 5)\n",
    "ALDSwinner1 = series_random(ALteam2, ALWCwinner1, 5)\n",
    "ALDSwinner2 = series_random(ALteam1, ALWCwinner2, 5)\n",
    "\n",
    "NLCSwinner = series_random(NLDSwinner1, NLDSwinner2, 7)\n",
    "ALCSwinner = series_random(ALDSwinner1, ALDSwinner2, 7)\n",
    "\n",
    "WSwinner = series_random(NLCSwinner, ALCSwinner, 7)\n",
    "\n",
    "print(f'The {WSwinner} are World Champs!')\n",
    "\n"
   ]
  },
  {
   "cell_type": "markdown",
   "metadata": {},
   "source": [
    "Create random playoff function"
   ]
  },
  {
   "cell_type": "code",
   "execution_count": 75,
   "metadata": {},
   "outputs": [],
   "source": [
    "def playoff_random(NLteam1, NLteam2, NLteam3, NLteam4, NLteam5, NLteam6,\n",
    "            ALteam1, ALteam2, ALteam3, ALteam4, ALteam5, ALteam6):\n",
    "    \n",
    "    NLWCwinner1 = series_random(NLteam6, NLteam3, 3)\n",
    "    NLWCwinner2 = series_random(NLteam5, NLteam4, 3)\n",
    "    ALWCwinner1 = series_random(ALteam6, ALteam3, 3)\n",
    "    ALWCwinner2 = series_random(ALteam5, ALteam4, 3)\n",
    "\n",
    "    NLDSwinner1 = series_random(NLteam2, NLWCwinner1, 5)\n",
    "    NLDSwinner2 = series_random(NLteam1, NLWCwinner2, 5)\n",
    "    ALDSwinner1 = series_random(ALteam2, ALWCwinner1, 5)\n",
    "    ALDSwinner2 = series_random(ALteam1, ALWCwinner2, 5)\n",
    "\n",
    "    NLCSwinner = series_random(NLDSwinner1, NLDSwinner2, 7)\n",
    "    ALCSwinner = series_random(ALDSwinner1, ALDSwinner2, 7)\n",
    "\n",
    "    WSwinner = series_random(NLCSwinner, ALCSwinner, 7)\n",
    "\n",
    "    return WSwinner"
   ]
  },
  {
   "cell_type": "code",
   "execution_count": 223,
   "metadata": {},
   "outputs": [
    {
     "name": "stdout",
     "output_type": "stream",
     "text": [
      "The Milwaukee Brewers are World Series Champions!\n"
     ]
    }
   ],
   "source": [
    "champs = playoff_random(NLteam1 = 'Atlanta Braves',\n",
    "                NLteam2 = 'Los Angeles Dodgers',\n",
    "                NLteam3 = 'Milwaukee Brewers',\n",
    "                NLteam4 = 'Philladelphia Phillies',\n",
    "                NLteam5 = 'Miami Marlins',\n",
    "                NLteam6 = 'Arizona Diamondbacks',\n",
    "                ALteam1 = 'Baltimore Orioles',\n",
    "                ALteam2 = 'Houston Astros',\n",
    "                ALteam3 = 'Minnesota Twins',\n",
    "                ALteam4 = 'Tampa Bay Rays',\n",
    "                ALteam5 = 'Texas Rangers',\n",
    "                ALteam6 = 'Toronto Blue Jays')\n",
    "\n",
    "print(f'The {champs} are World Series Champions!')"
   ]
  },
  {
   "cell_type": "markdown",
   "metadata": {},
   "source": [
    "Create random playoff sim, which runs the random playoff function a given number of iterations and creates a data frame output"
   ]
  },
  {
   "cell_type": "code",
   "execution_count": 160,
   "metadata": {},
   "outputs": [],
   "source": [
    "def playoff_sim_random(iterations, NLteam1, NLteam2, NLteam3, NLteam4, NLteam5, NLteam6,\n",
    "            ALteam1, ALteam2, ALteam3, ALteam4, ALteam5, ALteam6):\n",
    "\n",
    "    result_counts = {}\n",
    "    i = 1\n",
    "    iterations = iterations\n",
    "\n",
    "    for i in range(iterations):\n",
    "        result = playoff_random(NLteam1 = NLteam1,\n",
    "                                NLteam2 = NLteam2,\n",
    "                                NLteam3 = NLteam3,\n",
    "                                NLteam4 = NLteam4,\n",
    "                                NLteam5 = NLteam5,\n",
    "                                NLteam6 = NLteam6,\n",
    "                                ALteam1 = ALteam1,\n",
    "                                ALteam2 = ALteam2,\n",
    "                                ALteam3 = ALteam3,\n",
    "                                ALteam4 = ALteam4,\n",
    "                                ALteam5 = ALteam5,\n",
    "                                ALteam6 = ALteam6)\n",
    "\n",
    "        if result in result_counts:\n",
    "            result_counts[result] += 1\n",
    "        else:\n",
    "            result_counts[result] = 1\n",
    "\n",
    "    dataFrame = pd.DataFrame({'Team': list(result_counts.keys()), 'Wins': list(result_counts.values())})\n",
    "    dataFrame['Percentage'] = dataFrame['Wins'] / iterations * 100\n",
    "    dataFrame = dataFrame.sort_values(by = 'Wins', ascending = False)\n",
    "\n",
    "    return(dataFrame)\n"
   ]
  },
  {
   "cell_type": "code",
   "execution_count": 163,
   "metadata": {},
   "outputs": [
    {
     "data": {
      "text/html": [
       "<div>\n",
       "<style scoped>\n",
       "    .dataframe tbody tr th:only-of-type {\n",
       "        vertical-align: middle;\n",
       "    }\n",
       "\n",
       "    .dataframe tbody tr th {\n",
       "        vertical-align: top;\n",
       "    }\n",
       "\n",
       "    .dataframe thead th {\n",
       "        text-align: right;\n",
       "    }\n",
       "</style>\n",
       "<table border=\"1\" class=\"dataframe\">\n",
       "  <thead>\n",
       "    <tr style=\"text-align: right;\">\n",
       "      <th></th>\n",
       "      <th>Team</th>\n",
       "      <th>Wins</th>\n",
       "      <th>Percentage</th>\n",
       "    </tr>\n",
       "  </thead>\n",
       "  <tbody>\n",
       "    <tr>\n",
       "      <th>3</th>\n",
       "      <td>Baltimore Orioles</td>\n",
       "      <td>138</td>\n",
       "      <td>13.8</td>\n",
       "    </tr>\n",
       "    <tr>\n",
       "      <th>4</th>\n",
       "      <td>Atlanta Braves</td>\n",
       "      <td>129</td>\n",
       "      <td>12.9</td>\n",
       "    </tr>\n",
       "    <tr>\n",
       "      <th>11</th>\n",
       "      <td>Los Angeles Dodgers</td>\n",
       "      <td>126</td>\n",
       "      <td>12.6</td>\n",
       "    </tr>\n",
       "    <tr>\n",
       "      <th>6</th>\n",
       "      <td>Houston Astros</td>\n",
       "      <td>110</td>\n",
       "      <td>11.0</td>\n",
       "    </tr>\n",
       "    <tr>\n",
       "      <th>0</th>\n",
       "      <td>Tampa Bay Rays</td>\n",
       "      <td>76</td>\n",
       "      <td>7.6</td>\n",
       "    </tr>\n",
       "    <tr>\n",
       "      <th>7</th>\n",
       "      <td>Philladelphia Phillies</td>\n",
       "      <td>68</td>\n",
       "      <td>6.8</td>\n",
       "    </tr>\n",
       "    <tr>\n",
       "      <th>1</th>\n",
       "      <td>Miami Marlins</td>\n",
       "      <td>67</td>\n",
       "      <td>6.7</td>\n",
       "    </tr>\n",
       "    <tr>\n",
       "      <th>9</th>\n",
       "      <td>Milwaukee Brewers</td>\n",
       "      <td>62</td>\n",
       "      <td>6.2</td>\n",
       "    </tr>\n",
       "    <tr>\n",
       "      <th>2</th>\n",
       "      <td>Arizona Diamondbacks</td>\n",
       "      <td>60</td>\n",
       "      <td>6.0</td>\n",
       "    </tr>\n",
       "    <tr>\n",
       "      <th>5</th>\n",
       "      <td>Toronto Blue Jays</td>\n",
       "      <td>60</td>\n",
       "      <td>6.0</td>\n",
       "    </tr>\n",
       "    <tr>\n",
       "      <th>10</th>\n",
       "      <td>Minnesota Twins</td>\n",
       "      <td>53</td>\n",
       "      <td>5.3</td>\n",
       "    </tr>\n",
       "    <tr>\n",
       "      <th>8</th>\n",
       "      <td>Texas Rangers</td>\n",
       "      <td>51</td>\n",
       "      <td>5.1</td>\n",
       "    </tr>\n",
       "  </tbody>\n",
       "</table>\n",
       "</div>"
      ],
      "text/plain": [
       "                      Team  Wins  Percentage\n",
       "3        Baltimore Orioles   138        13.8\n",
       "4           Atlanta Braves   129        12.9\n",
       "11     Los Angeles Dodgers   126        12.6\n",
       "6           Houston Astros   110        11.0\n",
       "0           Tampa Bay Rays    76         7.6\n",
       "7   Philladelphia Phillies    68         6.8\n",
       "1            Miami Marlins    67         6.7\n",
       "9        Milwaukee Brewers    62         6.2\n",
       "2     Arizona Diamondbacks    60         6.0\n",
       "5        Toronto Blue Jays    60         6.0\n",
       "10         Minnesota Twins    53         5.3\n",
       "8            Texas Rangers    51         5.1"
      ]
     },
     "execution_count": 163,
     "metadata": {},
     "output_type": "execute_result"
    }
   ],
   "source": [
    "playoff_sim_random(iterations = 1000,\n",
    "                   NLteam1 = 'Atlanta Braves',\n",
    "                    NLteam2 = 'Los Angeles Dodgers',\n",
    "                    NLteam3 = 'Milwaukee Brewers',\n",
    "                    NLteam4 = 'Philladelphia Phillies',\n",
    "                    NLteam5 = 'Miami Marlins',\n",
    "                    NLteam6 = 'Arizona Diamondbacks',\n",
    "                    ALteam1 = 'Baltimore Orioles',\n",
    "                    ALteam2 = 'Houston Astros',\n",
    "                    ALteam3 = 'Minnesota Twins',\n",
    "                    ALteam4 = 'Tampa Bay Rays',\n",
    "                    ALteam5 = 'Texas Rangers',\n",
    "                    ALteam6 = 'Toronto Blue Jays')"
   ]
  },
  {
   "cell_type": "markdown",
   "metadata": {},
   "source": [
    "## Weighted by Regular Season Wins"
   ]
  },
  {
   "cell_type": "markdown",
   "metadata": {},
   "source": [
    "Repeat the same process, but weight the random function by each team's regular season win total"
   ]
  },
  {
   "cell_type": "code",
   "execution_count": 139,
   "metadata": {},
   "outputs": [],
   "source": [
    "def series_weighted(Team1, Team1regwins, Team2, Team2regwins, seriesLength):\n",
    "    Team1wins = 0\n",
    "    Team2wins = 0\n",
    "    weights = [(Team1regwins / (Team1regwins + Team2regwins)), (Team2regwins / (Team2regwins + Team1regwins)) ]\n",
    "    needed = seriesLength // 2 + 1\n",
    "\n",
    "    while Team1wins < needed and Team2wins < needed:\n",
    "        winner = ran.choices([Team1, Team2], weights = weights, k=1)\n",
    "        if winner[0] == Team1:\n",
    "            Team1wins += 1\n",
    "            #print(f'{Team1} wins game {Team1wins + Team2wins}')\n",
    "        else:\n",
    "            Team2wins += 1\n",
    "            #print(f'{Team2} wins game {Team2wins + Team1wins}')\n",
    "\n",
    "    if Team1wins == needed:\n",
    "        #print(f'{Team1} win the series {Team1wins} games to {Team2wins}.')\n",
    "        seriesWinner = Team1\n",
    "    else:\n",
    "        #print(f'{Team2} win the series {Team2wins} games to {Team1wins}.')\n",
    "        seriesWinner = Team2\n",
    "\n",
    "    return seriesWinner"
   ]
  },
  {
   "cell_type": "markdown",
   "metadata": {},
   "source": [
    "Demonstrate weighted series by iterating"
   ]
  },
  {
   "cell_type": "code",
   "execution_count": 166,
   "metadata": {},
   "outputs": [
    {
     "name": "stdout",
     "output_type": "stream",
     "text": [
      "             Team  Wins  Percentage\n",
      "1  Atlanta Braves  6523       65.23\n",
      "0  Boston Red Sox  3477       34.77\n"
     ]
    }
   ],
   "source": [
    "result_counts = {}\n",
    "i = 1\n",
    "iterations = 10000\n",
    "\n",
    "for i in range(iterations):\n",
    "    result = series_weighted(Team1 = 'Atlanta Braves', Team1regwins = 104, \n",
    "                             Team2 = 'Boston Red Sox', Team2regwins = 78, \n",
    "                             seriesLength = 7)\n",
    "    if result in result_counts:\n",
    "        result_counts[result] += 1\n",
    "    else:\n",
    "        result_counts[result] = 1\n",
    "\n",
    "dataFrame = pd.DataFrame({'Team': list(result_counts.keys()), 'Wins': list(result_counts.values())})\n",
    "dataFrame['Percentage'] = dataFrame['Wins'] / iterations * 100\n",
    "dataFrame = dataFrame.sort_values(by = 'Wins', ascending = False)\n",
    "\n",
    "print(dataFrame)\n"
   ]
  },
  {
   "cell_type": "markdown",
   "metadata": {},
   "source": [
    "weighted playoff"
   ]
  },
  {
   "cell_type": "code",
   "execution_count": 168,
   "metadata": {},
   "outputs": [],
   "source": [
    "def playoff_weighted(NLteam1, NLteam1regwins,\n",
    "                     NLteam2, NLteam2regwins,\n",
    "                     NLteam3, NLteam3regwins,\n",
    "                     NLteam4, NLteam4regwins,\n",
    "                     NLteam5, NLteam5regwins,\n",
    "                     NLteam6, NLteam6regwins,\n",
    "                     ALteam1, ALteam1regwins,\n",
    "                     ALteam2, ALteam2regwins,\n",
    "                     ALteam3, ALteam3regwins,\n",
    "                     ALteam4, ALteam4regwins,\n",
    "                     ALteam5, ALteam5regwins,\n",
    "                     ALteam6, ALteam6regwins):\n",
    "    \n",
    "    winsDict = {NLteam1: NLteam1regwins,\n",
    "                NLteam2: NLteam2regwins,\n",
    "                NLteam3: NLteam3regwins,\n",
    "                NLteam4: NLteam4regwins,\n",
    "                NLteam5: NLteam5regwins,\n",
    "                NLteam6: NLteam6regwins,\n",
    "                ALteam1: ALteam1regwins,\n",
    "                ALteam2: ALteam2regwins,\n",
    "                ALteam3: ALteam3regwins,\n",
    "                ALteam4: ALteam4regwins,\n",
    "                ALteam5: ALteam5regwins,\n",
    "                ALteam6: ALteam6regwins}\n",
    "    \n",
    "    NLWCwinner1 = series_weighted(NLteam6, NLteam6regwins, NLteam3, NLteam3regwins, 3)\n",
    "    NLWCwinner2 = series_weighted(NLteam5, NLteam5regwins, NLteam4, NLteam4regwins, 3)\n",
    "    ALWCwinner1 = series_weighted(ALteam6, ALteam6regwins, ALteam3, ALteam3regwins, 3)\n",
    "    ALWCwinner2 = series_weighted(ALteam5, ALteam5regwins, ALteam4, ALteam4regwins, 3)\n",
    "\n",
    "    NLDSwinner1 = series_weighted(NLteam2, NLteam2regwins, NLWCwinner1, winsDict[NLWCwinner1], 5)\n",
    "    NLDSwinner2 = series_weighted(NLteam1, NLteam1regwins, NLWCwinner2, winsDict[NLWCwinner2], 5)\n",
    "    ALDSwinner1 = series_weighted(ALteam2, ALteam2regwins, ALWCwinner1, winsDict[ALWCwinner1], 5)\n",
    "    ALDSwinner2 = series_weighted(ALteam1, ALteam1regwins, ALWCwinner2, winsDict[ALWCwinner2], 5)\n",
    "\n",
    "    NLCSwinner = series_weighted(NLDSwinner1, winsDict[NLDSwinner1], NLDSwinner2, winsDict[NLDSwinner2], 7)\n",
    "    ALCSwinner = series_weighted(ALDSwinner1, winsDict[ALDSwinner1], ALDSwinner2, winsDict[ALDSwinner2], 7)\n",
    "\n",
    "    WSwinner = series_weighted(NLCSwinner, winsDict[NLCSwinner], ALCSwinner, winsDict[ALCSwinner], 7)\n",
    "\n",
    "    return WSwinner"
   ]
  },
  {
   "cell_type": "code",
   "execution_count": 225,
   "metadata": {},
   "outputs": [
    {
     "name": "stdout",
     "output_type": "stream",
     "text": [
      "The Los Angeles Dodgers are World Series Champions!\n"
     ]
    }
   ],
   "source": [
    "champs = playoff_weighted(NLteam1 = 'Atlanta Braves', NLteam1regwins = 104,\n",
    "                            NLteam2 = 'Los Angeles Dodgers', NLteam2regwins = 100,\n",
    "                            NLteam3 = 'Milwaukee Brewers', NLteam3regwins = 92,\n",
    "                            NLteam4 = 'Philladelphia Phillies', NLteam4regwins = 90,\n",
    "                            NLteam5 = 'Miami Marlins', NLteam5regwins = 84,\n",
    "                            NLteam6 = 'Arizona Diamondbacks', NLteam6regwins = 84,\n",
    "                            ALteam1 = 'Baltimore Orioles', ALteam1regwins = 101,\n",
    "                            ALteam2 = 'Houston Astros', ALteam2regwins = 90,\n",
    "                            ALteam3 = 'Minnesota Twins', ALteam3regwins = 87,\n",
    "                            ALteam4 = 'Tampa Bay Rays', ALteam4regwins = 99,\n",
    "                            ALteam5 = 'Texas Rangers', ALteam5regwins = 90,\n",
    "                            ALteam6 = 'Toronto Blue Jays', ALteam6regwins = 89)\n",
    "\n",
    "print(f'The {champs} are World Series Champions!')"
   ]
  },
  {
   "cell_type": "markdown",
   "metadata": {},
   "source": [
    "weighted playoff with iterations"
   ]
  },
  {
   "cell_type": "code",
   "execution_count": 178,
   "metadata": {},
   "outputs": [],
   "source": [
    "def playoff_sim_weighted(iterations, \n",
    "                         NLteam1, NLteam1regwins,\n",
    "                        NLteam2, NLteam2regwins,\n",
    "                        NLteam3, NLteam3regwins,\n",
    "                        NLteam4, NLteam4regwins,\n",
    "                        NLteam5, NLteam5regwins,\n",
    "                        NLteam6, NLteam6regwins,\n",
    "                        ALteam1, ALteam1regwins,\n",
    "                        ALteam2, ALteam2regwins,\n",
    "                        ALteam3, ALteam3regwins,\n",
    "                        ALteam4, ALteam4regwins,\n",
    "                        ALteam5, ALteam5regwins,\n",
    "                        ALteam6, ALteam6regwins):\n",
    "\n",
    "    result_counts = {}\n",
    "    i = 1\n",
    "    iterations = iterations\n",
    "\n",
    "    for i in range(iterations):\n",
    "        result = playoff_weighted(NLteam1 = NLteam1, NLteam1regwins = NLteam1regwins,\n",
    "                                NLteam2 = NLteam2, NLteam2regwins = NLteam2regwins,\n",
    "                                NLteam3 = NLteam3, NLteam3regwins = NLteam3regwins,\n",
    "                                NLteam4 = NLteam4, NLteam4regwins = NLteam4regwins,\n",
    "                                NLteam5 = NLteam5, NLteam5regwins = NLteam5regwins,\n",
    "                                NLteam6 = NLteam6, NLteam6regwins = NLteam6regwins,\n",
    "                                ALteam1 = ALteam1, ALteam1regwins = ALteam1regwins,\n",
    "                                ALteam2 = ALteam2, ALteam2regwins = ALteam2regwins,\n",
    "                                ALteam3 = ALteam3, ALteam3regwins = ALteam3regwins,\n",
    "                                ALteam4 = ALteam4, ALteam4regwins = ALteam4regwins,\n",
    "                                ALteam5 = ALteam5, ALteam5regwins = ALteam5regwins,\n",
    "                                ALteam6 = ALteam6, ALteam6regwins = ALteam6regwins,)\n",
    "\n",
    "        if result in result_counts:\n",
    "            result_counts[result] += 1\n",
    "        else:\n",
    "            result_counts[result] = 1\n",
    "\n",
    "    dataFrame = pd.DataFrame({'Team': list(result_counts.keys()), 'Wins': list(result_counts.values())})\n",
    "    dataFrame['Percentage'] = dataFrame['Wins'] / iterations * 100\n",
    "    dataFrame = dataFrame.sort_values(by = 'Wins', ascending = False)\n",
    "\n",
    "    return(dataFrame)"
   ]
  },
  {
   "cell_type": "code",
   "execution_count": 220,
   "metadata": {},
   "outputs": [
    {
     "data": {
      "text/html": [
       "<div>\n",
       "<style scoped>\n",
       "    .dataframe tbody tr th:only-of-type {\n",
       "        vertical-align: middle;\n",
       "    }\n",
       "\n",
       "    .dataframe tbody tr th {\n",
       "        vertical-align: top;\n",
       "    }\n",
       "\n",
       "    .dataframe thead th {\n",
       "        text-align: right;\n",
       "    }\n",
       "</style>\n",
       "<table border=\"1\" class=\"dataframe\">\n",
       "  <thead>\n",
       "    <tr style=\"text-align: right;\">\n",
       "      <th></th>\n",
       "      <th>Team</th>\n",
       "      <th>Wins</th>\n",
       "      <th>Percentage</th>\n",
       "    </tr>\n",
       "  </thead>\n",
       "  <tbody>\n",
       "    <tr>\n",
       "      <th>3</th>\n",
       "      <td>Atlanta Braves</td>\n",
       "      <td>1758</td>\n",
       "      <td>17.58</td>\n",
       "    </tr>\n",
       "    <tr>\n",
       "      <th>2</th>\n",
       "      <td>Baltimore Orioles</td>\n",
       "      <td>1583</td>\n",
       "      <td>15.83</td>\n",
       "    </tr>\n",
       "    <tr>\n",
       "      <th>5</th>\n",
       "      <td>Los Angeles Dodgers</td>\n",
       "      <td>1459</td>\n",
       "      <td>14.59</td>\n",
       "    </tr>\n",
       "    <tr>\n",
       "      <th>1</th>\n",
       "      <td>Houston Astros</td>\n",
       "      <td>1161</td>\n",
       "      <td>11.61</td>\n",
       "    </tr>\n",
       "    <tr>\n",
       "      <th>7</th>\n",
       "      <td>Tampa Bay Rays</td>\n",
       "      <td>793</td>\n",
       "      <td>7.93</td>\n",
       "    </tr>\n",
       "    <tr>\n",
       "      <th>9</th>\n",
       "      <td>Milwaukee Brewers</td>\n",
       "      <td>562</td>\n",
       "      <td>5.62</td>\n",
       "    </tr>\n",
       "    <tr>\n",
       "      <th>0</th>\n",
       "      <td>Philladelphia Phillies</td>\n",
       "      <td>526</td>\n",
       "      <td>5.26</td>\n",
       "    </tr>\n",
       "    <tr>\n",
       "      <th>6</th>\n",
       "      <td>Texas Rangers</td>\n",
       "      <td>512</td>\n",
       "      <td>5.12</td>\n",
       "    </tr>\n",
       "    <tr>\n",
       "      <th>10</th>\n",
       "      <td>Toronto Blue Jays</td>\n",
       "      <td>496</td>\n",
       "      <td>4.96</td>\n",
       "    </tr>\n",
       "    <tr>\n",
       "      <th>11</th>\n",
       "      <td>Minnesota Twins</td>\n",
       "      <td>462</td>\n",
       "      <td>4.62</td>\n",
       "    </tr>\n",
       "    <tr>\n",
       "      <th>4</th>\n",
       "      <td>Miami Marlins</td>\n",
       "      <td>353</td>\n",
       "      <td>3.53</td>\n",
       "    </tr>\n",
       "    <tr>\n",
       "      <th>8</th>\n",
       "      <td>Arizona Diamondbacks</td>\n",
       "      <td>335</td>\n",
       "      <td>3.35</td>\n",
       "    </tr>\n",
       "  </tbody>\n",
       "</table>\n",
       "</div>"
      ],
      "text/plain": [
       "                      Team  Wins  Percentage\n",
       "3           Atlanta Braves  1758       17.58\n",
       "2        Baltimore Orioles  1583       15.83\n",
       "5      Los Angeles Dodgers  1459       14.59\n",
       "1           Houston Astros  1161       11.61\n",
       "7           Tampa Bay Rays   793        7.93\n",
       "9        Milwaukee Brewers   562        5.62\n",
       "0   Philladelphia Phillies   526        5.26\n",
       "6            Texas Rangers   512        5.12\n",
       "10       Toronto Blue Jays   496        4.96\n",
       "11         Minnesota Twins   462        4.62\n",
       "4            Miami Marlins   353        3.53\n",
       "8     Arizona Diamondbacks   335        3.35"
      ]
     },
     "execution_count": 220,
     "metadata": {},
     "output_type": "execute_result"
    }
   ],
   "source": [
    "playoff_sim_weighted(iterations = 10000,\n",
    "                     NLteam1 = 'Atlanta Braves', NLteam1regwins = 104,\n",
    "                    NLteam2 = 'Los Angeles Dodgers', NLteam2regwins = 100,\n",
    "                    NLteam3 = 'Milwaukee Brewers', NLteam3regwins = 92,\n",
    "                    NLteam4 = 'Philladelphia Phillies', NLteam4regwins = 90,\n",
    "                    NLteam5 = 'Miami Marlins', NLteam5regwins = 84,\n",
    "                    NLteam6 = 'Arizona Diamondbacks', NLteam6regwins = 84,\n",
    "                    ALteam1 = 'Baltimore Orioles', ALteam1regwins = 101,\n",
    "                    ALteam2 = 'Houston Astros', ALteam2regwins = 90,\n",
    "                    ALteam3 = 'Minnesota Twins', ALteam3regwins = 87,\n",
    "                    ALteam4 = 'Tampa Bay Rays', ALteam4regwins = 99,\n",
    "                    ALteam5 = 'Texas Rangers', ALteam5regwins = 90,\n",
    "                    ALteam6 = 'Toronto Blue Jays', ALteam6regwins = 89)"
   ]
  }
 ],
 "metadata": {
  "kernelspec": {
   "display_name": "base",
   "language": "python",
   "name": "python3"
  },
  "language_info": {
   "codemirror_mode": {
    "name": "ipython",
    "version": 3
   },
   "file_extension": ".py",
   "mimetype": "text/x-python",
   "name": "python",
   "nbconvert_exporter": "python",
   "pygments_lexer": "ipython3",
   "version": "3.10.9"
  },
  "orig_nbformat": 4
 },
 "nbformat": 4,
 "nbformat_minor": 2
}
